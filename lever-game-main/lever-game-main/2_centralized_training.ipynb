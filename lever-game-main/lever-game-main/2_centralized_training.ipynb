{
 "cells": [
  {
   "cell_type": "markdown",
   "metadata": {},
   "source": [
    "# Centralized Training "
   ]
  },
  {
   "cell_type": "markdown",
   "metadata": {},
   "source": [
    "In the Centralized Training multi-agent paradigm, training of the agents is performed by a central controller. <br/>\n",
    "The model for the lever coordination game is fully known and relatively basic. Therefore, the optimal joint action(s) $a = (a_i,a_j)$ can be solved exactly at low computational cost."
   ]
  },
  {
   "cell_type": "code",
   "execution_count": 1,
   "metadata": {},
   "outputs": [
    {
     "name": "stdout",
     "output_type": "stream",
     "text": [
      "k,l是:(0, 0)\n",
      "k,l是:(0, 1)\n",
      "k,l是:(0, 2)\n",
      "k,l是:(0, 3)\n",
      "k,l是:(0, 4)\n",
      "k,l是:(0, 5)\n",
      "k,l是:(0, 6)\n",
      "k,l是:(0, 7)\n",
      "k,l是:(0, 8)\n",
      "k,l是:(0, 9)\n",
      "k,l是:(1, 0)\n",
      "k,l是:(1, 1)\n",
      "k,l是:(1, 2)\n",
      "k,l是:(1, 3)\n",
      "k,l是:(1, 4)\n",
      "k,l是:(1, 5)\n",
      "k,l是:(1, 6)\n",
      "k,l是:(1, 7)\n",
      "k,l是:(1, 8)\n",
      "k,l是:(1, 9)\n",
      "k,l是:(2, 0)\n",
      "k,l是:(2, 1)\n",
      "k,l是:(2, 2)\n",
      "k,l是:(2, 3)\n",
      "k,l是:(2, 4)\n",
      "k,l是:(2, 5)\n",
      "k,l是:(2, 6)\n",
      "k,l是:(2, 7)\n",
      "k,l是:(2, 8)\n",
      "k,l是:(2, 9)\n",
      "k,l是:(3, 0)\n",
      "k,l是:(3, 1)\n",
      "k,l是:(3, 2)\n",
      "k,l是:(3, 3)\n",
      "k,l是:(3, 4)\n",
      "k,l是:(3, 5)\n",
      "k,l是:(3, 6)\n",
      "k,l是:(3, 7)\n",
      "k,l是:(3, 8)\n",
      "k,l是:(3, 9)\n",
      "k,l是:(4, 0)\n",
      "k,l是:(4, 1)\n",
      "k,l是:(4, 2)\n",
      "k,l是:(4, 3)\n",
      "k,l是:(4, 4)\n",
      "k,l是:(4, 5)\n",
      "k,l是:(4, 6)\n",
      "k,l是:(4, 7)\n",
      "k,l是:(4, 8)\n",
      "k,l是:(4, 9)\n",
      "k,l是:(5, 0)\n",
      "k,l是:(5, 1)\n",
      "k,l是:(5, 2)\n",
      "k,l是:(5, 3)\n",
      "k,l是:(5, 4)\n",
      "k,l是:(5, 5)\n",
      "k,l是:(5, 6)\n",
      "k,l是:(5, 7)\n",
      "k,l是:(5, 8)\n",
      "k,l是:(5, 9)\n",
      "k,l是:(6, 0)\n",
      "k,l是:(6, 1)\n",
      "k,l是:(6, 2)\n",
      "k,l是:(6, 3)\n",
      "k,l是:(6, 4)\n",
      "k,l是:(6, 5)\n",
      "k,l是:(6, 6)\n",
      "k,l是:(6, 7)\n",
      "k,l是:(6, 8)\n",
      "k,l是:(6, 9)\n",
      "k,l是:(7, 0)\n",
      "k,l是:(7, 1)\n",
      "k,l是:(7, 2)\n",
      "k,l是:(7, 3)\n",
      "k,l是:(7, 4)\n",
      "k,l是:(7, 5)\n",
      "k,l是:(7, 6)\n",
      "k,l是:(7, 7)\n",
      "k,l是:(7, 8)\n",
      "k,l是:(7, 9)\n",
      "k,l是:(8, 0)\n",
      "k,l是:(8, 1)\n",
      "k,l是:(8, 2)\n",
      "k,l是:(8, 3)\n",
      "k,l是:(8, 4)\n",
      "k,l是:(8, 5)\n",
      "k,l是:(8, 6)\n",
      "k,l是:(8, 7)\n",
      "k,l是:(8, 8)\n",
      "k,l是:(8, 9)\n",
      "k,l是:(9, 0)\n",
      "k,l是:(9, 1)\n",
      "k,l是:(9, 2)\n",
      "k,l是:(9, 3)\n",
      "k,l是:(9, 4)\n",
      "k,l是:(9, 5)\n",
      "k,l是:(9, 6)\n",
      "k,l是:(9, 7)\n",
      "k,l是:(9, 8)\n",
      "k,l是:(9, 9)\n"
     ]
    }
   ],
   "source": [
    "from env.lever_game import LeverGame\n",
    "import numpy as np\n",
    "import itertools\n",
    "\n",
    "env = LeverGame()\n",
    "\n",
    "q_values = np.zeros((env.num_levers,env.num_levers))\n",
    "for k,l in itertools.product(range(env.num_levers), repeat=2):\n",
    "    print(f'k,l是:{(k,l)}')\n",
    "    _, r, _, _ = env.step((k,l))\n",
    "    \n",
    "    # Q values are just equal to reward obtained\n",
    "    q_values[k][l] = r"
   ]
  },
  {
   "cell_type": "markdown",
   "metadata": {},
   "source": [
    "and so the Q-table looks as follows"
   ]
  },
  {
   "cell_type": "code",
   "execution_count": 2,
   "metadata": {},
   "outputs": [
    {
     "name": "stdout",
     "output_type": "stream",
     "text": [
      "[[0.9 0.  0.  0.  0.  0.  0.  0.  0.  0. ]\n",
      " [0.  1.  0.  0.  0.  0.  0.  0.  0.  0. ]\n",
      " [0.  0.  1.  0.  0.  0.  0.  0.  0.  0. ]\n",
      " [0.  0.  0.  1.  0.  0.  0.  0.  0.  0. ]\n",
      " [0.  0.  0.  0.  1.  0.  0.  0.  0.  0. ]\n",
      " [0.  0.  0.  0.  0.  1.  0.  0.  0.  0. ]\n",
      " [0.  0.  0.  0.  0.  0.  1.  0.  0.  0. ]\n",
      " [0.  0.  0.  0.  0.  0.  0.  1.  0.  0. ]\n",
      " [0.  0.  0.  0.  0.  0.  0.  0.  1.  0. ]\n",
      " [0.  0.  0.  0.  0.  0.  0.  0.  0.  1. ]]\n"
     ]
    },
    {
     "data": {
      "text/plain": "<Figure size 500x400 with 2 Axes>",
      "image/png": "[encoded data removed]"
     },
     "metadata": {
      "needs_background": "light"
     },
     "output_type": "display_data"
    }
   ],
   "source": [
    "import matplotlib.pyplot as plt\n",
    "\n",
    "fig, ax = plt.subplots(dpi=100, figsize=[5,4])\n",
    "print(q_values)\n",
    "image = ax.imshow(q_values, vmin=0, vmax=1, aspect='auto')\n",
    "ax.set_yticks(range(env.num_levers))\n",
    "ax.set_xticks(range(env.num_levers))\n",
    "ax.set_title('Q Values for the Lever Coordination Game')\n",
    "ax.set_ylabel('Player 1')\n",
    "ax.set_xlabel('Player 2')\n",
    "\n",
    "fig.colorbar(image, ax=ax)\n",
    "plt.show()"
   ]
  },
  {
   "cell_type": "markdown",
   "metadata": {},
   "source": [
    "## Central Execution\n",
    "In the paradigm of centralized execution, there is a centralized controller responsible for the execution of each agent's action. <br/>\n",
    "In this scenario, the optimal policy $\\pi \\in (a_i,a_j)$ would be to execute one of the optimal joint actions found above: $\\big \\{(a_i,a_i) \\: \\big | \\text{ where } a_i \\text{ is any lever other than 0}  \\big \\}$. <br/>\n",
    "An example of an optimal policy would be $\\pi = (1,1)$."
   ]
  },
  {
   "cell_type": "markdown",
   "metadata": {},
   "source": [
    "## Decentral Execution\n",
    "In the paradigm of decentral execution, the goal of training is to find the optimal policy $\\pi_i \\in a_i$ that an isolated agent $i$ can execute without any real-time knowledge of their partner's state/policy. <br/>\n",
    "However, as there is centralized training, a central controller can decide on the two policies $\\pi_i$ and $\\pi_j$ that should be followed by agents $i$ and $j$ once execution has started. <br/>\n",
    "So, the optimal policy would be for both $\\pi_i$ and $\\pi_j$ to 'agree' beforehand on a single lever $a_i$ (other than lever 0) to both select during execution. <br/>\n",
    "An example of an optimal policy would be $\\pi_i = 1$ and $\\pi_j = 1$."
   ]
  },
  {
   "cell_type": "code",
   "execution_count": 9,
   "outputs": [],
   "source": [
    "x,y = np.where(q_values == np.max(q_values))"
   ],
   "metadata": {
    "collapsed": false,
    "pycharm": {
     "name": "#%%\n"
    }
   }
  },
  {
   "cell_type": "code",
   "execution_count": 10,
   "outputs": [
    {
     "data": {
      "text/plain": "1.0"
     },
     "execution_count": 10,
     "metadata": {},
     "output_type": "execute_result"
    }
   ],
   "source": [],
   "metadata": {
    "collapsed": false,
    "pycharm": {
     "name": "#%%\n"
    }
   }
  }
 ],
 "metadata": {
  "kernelspec": {
   "display_name": "Python 3",
   "language": "python",
   "name": "python3"
  },
  "language_info": {
   "codemirror_mode": {
    "name": "ipython",
    "version": 3
   },
   "file_extension": ".py",
   "mimetype": "text/x-python",
   "name": "python",
   "nbconvert_exporter": "python",
   "pygments_lexer": "ipython3",
   "version": "3.7.2"
  }
 },
 "nbformat": 4,
 "nbformat_minor": 4
}