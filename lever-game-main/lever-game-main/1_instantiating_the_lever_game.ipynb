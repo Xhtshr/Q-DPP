{
 "cells": [
  {
   "cell_type": "markdown",
   "metadata": {},
   "source": [
    "# The Lever Coordination Game\n",
    "The lever coordination game is a simple two player cooperative game. <br/>\n",
    "The game is played for only a single round and the goal is for two players to select the same lever. <br/>\n",
    "If two players select the same lever, they receive a reward equal to the pay-off associated with that lever. <br/>\n",
    "Otherwise, their reward is zero. <br/>\n",
    "\n",
    "\n",
    "*Source:* Hu, Hengyuan, et al. \"\"Other-Play\" for Zero-Shot Coordination.\" arXiv preprint arXiv:2003.02979 (2020)"
   ]
  },
  {
   "cell_type": "markdown",
   "metadata": {},
   "source": [
    "## Instantiating The Game"
   ]
  },
  {
   "cell_type": "markdown",
   "metadata": {},
   "source": [
    "Import the game environment"
   ]
  },
  {
   "cell_type": "code",
   "execution_count": 2,
   "metadata": {},
   "outputs": [],
   "source": [
    "from env.lever_game import LeverGame"
   ]
  },
  {
   "cell_type": "markdown",
   "metadata": {},
   "source": [
    "The game can be rendered to show the last actions the agents have taken.\n",
    "On instantiation no moves have been played yet."
   ]
  },
  {
   "cell_type": "code",
   "execution_count": 4,
   "metadata": {},
   "outputs": [
    {
     "data": {
      "text/plain": "<Figure size 400x80 with 1 Axes>",
      "image/png": "[encoded data removed]"
     },
     "metadata": {
      "needs_background": "light"
     },
     "output_type": "display_data"
    }
   ],
   "source": [
    "env = LeverGame()\n",
    "env.render()"
   ]
  },
  {
   "cell_type": "markdown",
   "metadata": {},
   "source": [
    "Take an action through a tuple of lever indices $i$ and $j$: $(i,j)$"
   ]
  },
  {
   "cell_type": "code",
   "execution_count": 6,
   "metadata": {},
   "outputs": [
    {
     "name": "stdout",
     "output_type": "stream",
     "text": [
      "Reward obtained: 0\n"
     ]
    },
    {
     "data": {
      "text/plain": "<Figure size 400x80 with 1 Axes>",
      "image/png": "[encoded data removed]"
     },
     "metadata": {
      "needs_background": "light"
     },
     "output_type": "display_data"
    }
   ],
   "source": [
    "observation, reward, done, info = env.step((2, 7))\n",
    "print(f'Reward obtained: {reward}')\n",
    "env.render()"
   ]
  },
  {
   "cell_type": "markdown",
   "metadata": {},
   "source": [
    "The goal is for the agents to choose the same lever. <br/>\n",
    "Only then will the reward be non-zero (and equal to the chosen lever's pay-off)"
   ]
  },
  {
   "cell_type": "code",
   "execution_count": 8,
   "metadata": {},
   "outputs": [
    {
     "name": "stdout",
     "output_type": "stream",
     "text": [
      "Reward obtained: 1\n"
     ]
    },
    {
     "data": {
      "text/plain": "<Figure size 400x80 with 1 Axes>",
      "image/png": "[encoded data removed]"
     },
     "metadata": {
      "needs_background": "light"
     },
     "output_type": "display_data"
    }
   ],
   "source": [
    "observation, reward, done, info = env.step((1,1))\n",
    "print(f'Reward obtained: {reward}')\n",
    "env.render()"
   ]
  }
 ],
 "metadata": {
  "kernelspec": {
   "display_name": "Python 3",
   "language": "python",
   "name": "python3"
  },
  "language_info": {
   "codemirror_mode": {
    "name": "ipython",
    "version": 3
   },
   "file_extension": ".py",
   "mimetype": "text/x-python",
   "name": "python",
   "nbconvert_exporter": "python",
   "pygments_lexer": "ipython3",
   "version": "3.7.2"
  }
 },
 "nbformat": 4,
 "nbformat_minor": 4
}